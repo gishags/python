{
  "cells": [
    {
      "cell_type": "markdown",
      "metadata": {
        "id": "view-in-github",
        "colab_type": "text"
      },
      "source": [
        "<a href=\"https://colab.research.google.com/github/sijuswamy/Algorithmic-Thinking-FDP/blob/main/Linear_Regression_Academic_Tribe.ipynb\" target=\"_parent\"><img src=\"https://colab.research.google.com/assets/colab-badge.svg\" alt=\"Open In Colab\"/></a>"
      ]
    },
    {
      "cell_type": "markdown",
      "metadata": {
        "id": "S8QNcPduPuY6"
      },
      "source": [
        "\n",
        "# Linear Regression Models in Machine Learning (Academic Tribe)"
      ]
    },
    {
      "cell_type": "markdown",
      "metadata": {
        "id": "sZxaU29XPuZC"
      },
      "source": [
        "## Introduction\n",
        "Linear Regression is a machine learning algorithm based on supervised learning. It performs a regression task. Regression models a target prediction value based on independent variables. It is mostly used for finding out the relationship between variables and forecasting. Different regression models differ based on – the kind of relationship between dependent and independent variables, they are considering and the number of independent variables being used."
      ]
    },
    {
      "cell_type": "markdown",
      "metadata": {
        "id": "SAij5PGePuZE"
      },
      "source": [
        "## Linear Regression Job\n",
        "\n",
        "Linear regression performs the task to predict a dependent variable value ($y$) based on a given independent variable ($x$). So, this regression technique finds out a linear relationship between $x$ (input) and $y$(response). Hence, the name is Linear Regression.\n",
        " For example $X$ (input) is the work experience and $Y$ (output) is the salary of a person. The regression line is the best fit line for our SLR model."
      ]
    },
    {
      "cell_type": "markdown",
      "metadata": {
        "id": "U5T2N7ONPuZF"
      },
      "source": [
        "## Hypothesis of SLRM\n",
        "\n",
        "The proposed model is $$h_\\theta(x)=\\theta_0+\\theta_1 x$$, where $\\theta_0$ is the intercept of the line and $\\theta_1$ is the slope. In case of multiple linear regression the vector form of LR is $$h_\\theta=\\theta^TX+\\theta_0$$\n",
        "\n",
        "where $\\theta=(\\theta_1,\\theta_2\\ldots,\\theta_n)^T$\n",
        "\n",
        "The hypothesis are:\n",
        "\n",
        "> $H_0$: $\\theta_1=0$\n",
        "\n",
        "> $H_1$: $\\theta_1\\neq 0$\n",
        "\n",
        "While training the model we are given :\n",
        "\n",
        ">1.$x$: input training data (univariate – one input variable(parameter))\n",
        "\n",
        ">2.$y$: labels to data (supervised learning)\n",
        "\n",
        ">3.When training the model – it fits the best line to predict the value of y for a given value of x. The model gets the best regression fit line by finding the best $\\theta_0$ and $\\theta_1$ values.\n",
        "$\\theta_0$: intercept\n",
        "$\\theta_1$: coefficient of x"
      ]
    },
    {
      "cell_type": "markdown",
      "metadata": {
        "id": "21EUnfvUPuZH"
      },
      "source": [
        "## Moving in SLR model building\n",
        "Once we find the best $\\theta_0$ and $\\theta_1$ values, we get the best fit line. So when we are finally using our model for prediction, it will predict the value of $y$ for the input value of $x$."
      ]
    },
    {
      "cell_type": "markdown",
      "metadata": {
        "id": "r9K2Gz29PuZI"
      },
      "source": [
        "## 1. Least square error method\n",
        "\n",
        "In this method, we simply calculate the parameters $\\theta_0$ and $\\theta_1$ can be calculated using the following algebraic expressions:\n",
        "\n",
        "\\begin{align*}\n",
        "\\theta_1&=\\dfrac{\\sum\\limits_{i=1}^m\\left(x_i-\\bar{x}\\right)\\left(y_i-\\bar{y}\\right)}{\\sum\\limits_{i=1}^m\\left(x_i-\\bar{x}\\right)^2}\\\\\n",
        "\\theta_0&=\\bar{y}-\\theta_1\\bar{x}\n",
        "\\end{align*}\n",
        "\n"
      ]
    },
    {
      "cell_type": "code",
      "execution_count": null,
      "metadata": {
        "id": "VFX1DgM8PuZJ",
        "outputId": "405b489c-bd97-4979-b8c9-65e9aff0247a",
        "colab": {
          "base_uri": "https://localhost:8080/"
        }
      },
      "outputs": [
        {
          "output_type": "stream",
          "name": "stdout",
          "text": [
            "slope : 4.0\n",
            "Intercept : 6.753999999999998\n"
          ]
        }
      ],
      "source": [
        "\n",
        "import numpy as np\n",
        "x=np.array([1,2,3,4,5,6,7,8])\n",
        "y=4*x+6.754\n",
        "nr=np.sum((np.multiply(y-np.mean(y),x-np.mean(x))))\n",
        "dnr=np.sum((x-np.mean(x))**2)\n",
        "# print(nr)\n",
        "# print(dnr)\n",
        "theta_1=nr/dnr\n",
        "theta_0=np.mean(y)-theta_1*np.mean(x)\n",
        "print(\"slope :\",theta_1)\n",
        "print(\"Intercept :\",theta_0)"
      ]
    },
    {
      "cell_type": "markdown",
      "metadata": {
        "id": "Qr2SLq9gPuZO"
      },
      "source": [
        "## Direct method in statistics"
      ]
    },
    {
      "cell_type": "code",
      "execution_count": null,
      "metadata": {
        "id": "vgZVY-fvPuZP",
        "outputId": "f2fcba17-a126-4565-ccee-8a741340f1e6",
        "colab": {
          "base_uri": "https://localhost:8080/",
          "height": 500
        }
      },
      "outputs": [
        {
          "output_type": "stream",
          "name": "stderr",
          "text": [
            "/usr/local/lib/python3.9/dist-packages/scipy/stats/_stats_py.py:1736: UserWarning: kurtosistest only valid for n>=20 ... continuing anyway, n=8\n",
            "  warnings.warn(\"kurtosistest only valid for n>=20 ... continuing \"\n"
          ]
        },
        {
          "output_type": "execute_result",
          "data": {
            "text/plain": [
              "<class 'statsmodels.iolib.summary.Summary'>\n",
              "\"\"\"\n",
              "                                 OLS Regression Results                                \n",
              "=======================================================================================\n",
              "Dep. Variable:                      y   R-squared (uncentered):                   0.987\n",
              "Model:                            OLS   Adj. R-squared (uncentered):              0.985\n",
              "Method:                 Least Squares   F-statistic:                              512.3\n",
              "Date:                Mon, 10 Apr 2023   Prob (F-statistic):                    8.32e-08\n",
              "Time:                        15:18:51   Log-Likelihood:                         -20.311\n",
              "No. Observations:                   8   AIC:                                      42.62\n",
              "Df Residuals:                       7   BIC:                                      42.70\n",
              "Df Model:                           1                                                  \n",
              "Covariance Type:            nonrobust                                                  \n",
              "==============================================================================\n",
              "                 coef    std err          t      P>|t|      [0.025      0.975]\n",
              "------------------------------------------------------------------------------\n",
              "x1             5.1919      0.229     22.635      0.000       4.649       5.734\n",
              "==============================================================================\n",
              "Omnibus:                        0.679   Durbin-Watson:                   0.132\n",
              "Prob(Omnibus):                  0.712   Jarque-Bera (JB):                0.511\n",
              "Skew:                           0.000   Prob(JB):                        0.775\n",
              "Kurtosis:                       1.762   Cond. No.                         1.00\n",
              "==============================================================================\n",
              "\n",
              "Notes:\n",
              "[1] R² is computed without centering (uncentered) since the model does not contain a constant.\n",
              "[2] Standard Errors assume that the covariance matrix of the errors is correctly specified.\n",
              "\"\"\""
            ],
            "text/html": [
              "<table class=\"simpletable\">\n",
              "<caption>OLS Regression Results</caption>\n",
              "<tr>\n",
              "  <th>Dep. Variable:</th>            <td>y</td>        <th>  R-squared (uncentered):</th>      <td>   0.987</td>\n",
              "</tr>\n",
              "<tr>\n",
              "  <th>Model:</th>                   <td>OLS</td>       <th>  Adj. R-squared (uncentered):</th> <td>   0.985</td>\n",
              "</tr>\n",
              "<tr>\n",
              "  <th>Method:</th>             <td>Least Squares</td>  <th>  F-statistic:       </th>          <td>   512.3</td>\n",
              "</tr>\n",
              "<tr>\n",
              "  <th>Date:</th>             <td>Mon, 10 Apr 2023</td> <th>  Prob (F-statistic):</th>          <td>8.32e-08</td>\n",
              "</tr>\n",
              "<tr>\n",
              "  <th>Time:</th>                 <td>15:18:51</td>     <th>  Log-Likelihood:    </th>          <td> -20.311</td>\n",
              "</tr>\n",
              "<tr>\n",
              "  <th>No. Observations:</th>      <td>     8</td>      <th>  AIC:               </th>          <td>   42.62</td>\n",
              "</tr>\n",
              "<tr>\n",
              "  <th>Df Residuals:</th>          <td>     7</td>      <th>  BIC:               </th>          <td>   42.70</td>\n",
              "</tr>\n",
              "<tr>\n",
              "  <th>Df Model:</th>              <td>     1</td>      <th>                     </th>              <td> </td>   \n",
              "</tr>\n",
              "<tr>\n",
              "  <th>Covariance Type:</th>      <td>nonrobust</td>    <th>                     </th>              <td> </td>   \n",
              "</tr>\n",
              "</table>\n",
              "<table class=\"simpletable\">\n",
              "<tr>\n",
              "   <td></td>     <th>coef</th>     <th>std err</th>      <th>t</th>      <th>P>|t|</th>  <th>[0.025</th>    <th>0.975]</th>  \n",
              "</tr>\n",
              "<tr>\n",
              "  <th>x1</th> <td>    5.1919</td> <td>    0.229</td> <td>   22.635</td> <td> 0.000</td> <td>    4.649</td> <td>    5.734</td>\n",
              "</tr>\n",
              "</table>\n",
              "<table class=\"simpletable\">\n",
              "<tr>\n",
              "  <th>Omnibus:</th>       <td> 0.679</td> <th>  Durbin-Watson:     </th> <td>   0.132</td>\n",
              "</tr>\n",
              "<tr>\n",
              "  <th>Prob(Omnibus):</th> <td> 0.712</td> <th>  Jarque-Bera (JB):  </th> <td>   0.511</td>\n",
              "</tr>\n",
              "<tr>\n",
              "  <th>Skew:</th>          <td> 0.000</td> <th>  Prob(JB):          </th> <td>   0.775</td>\n",
              "</tr>\n",
              "<tr>\n",
              "  <th>Kurtosis:</th>      <td> 1.762</td> <th>  Cond. No.          </th> <td>    1.00</td>\n",
              "</tr>\n",
              "</table><br/><br/>Notes:<br/>[1] R² is computed without centering (uncentered) since the model does not contain a constant.<br/>[2] Standard Errors assume that the covariance matrix of the errors is correctly specified."
            ]
          },
          "metadata": {},
          "execution_count": 5
        }
      ],
      "source": [
        "import statsmodels.api as sm\n",
        "# Note the difference in argument order\n",
        "model = sm.OLS(y, x).fit()\n",
        "predictions = model.predict(x) # make the predictions by the model\n",
        "\n",
        "# Print out the statistics\n",
        "model.summary()"
      ]
    },
    {
      "cell_type": "markdown",
      "metadata": {
        "id": "w3gz0WM0PuZR"
      },
      "source": [
        "Ordinary Least Square method looks simple and computation is easy. But, this OLS method will only work for a univariate dataset which is single dependent variable and single independent variable. Multi-variate dataset contains a single dependent variable and multiple independent variable sets, forced us to use a machine learning algorithm called “Gradient Descent”."
      ]
    },
    {
      "cell_type": "markdown",
      "metadata": {
        "id": "jeS09bTfPuZU"
      },
      "source": [
        "## Optimizing Regression line- Gradient descent method\n",
        "\n",
        "**Updating $\\theta_0$ and $\\theta_1$ values to get the best fit line**.\n",
        "\n",
        " While learning linear regression ML course, two functions are introduced:\n",
        "\n",
        "1. the cost function\n",
        "2. gradient descent\n",
        "\n",
        "**What is a Cost Function?**\n",
        "\n",
        "In the case of gradient descent, the objective is to find a line of best fit for some given inputs, or X values, and any number of Y values, or outputs. A cost function is defined as:\n",
        "\n",
        ">…a function that maps an event or values of one or more variables onto a real number intuitively representing some “cost” associated with the event.\n",
        "from Wikipedia\n",
        "\n",
        "In this situation, the event we are finding the cost of is the difference between estimated values, or the hypothesis and the real values — the actual data we are trying to fit a line to.\n",
        "\n",
        "By achieving the best-fit regression line, the model aims to predict y value such that the error difference between predicted value and true value is minimum. So, it is very important to update the $\\theta_0$ and $\\theta_1$ values, to reach the best value that minimize the error between predicted y value (pred) and true y value (y).\n",
        "\n",
        "The cost function in the case of SLR is the $MSE$ in prediction. Formally it can be defined as:\n",
        "\n",
        "$$ J(\\theta_0,\\theta_1)=\\frac{1}{2m}\\sum\\limits_{i=1}^m\\left(h_\\theta(x^i)-\\hat{y}^i\\right)^2$$\n",
        "\n",
        "Using Gradient descent algorithm , we will figure out a minimal cost function by applying various parameters for $\\theta_0$ and $\\theta_1$ and see the slope intercept until it reaches convergence.\n",
        "\n",
        ">In a real world example, it is similar to find out a best direction to take a step downhill.\n",
        "\n",
        "We take a step towards the direction to get down. From the each step, you look out the direction again to get down faster and downhill quickly. The similar approach is using in this algorithm to minimise cost function.\n"
      ]
    },
    {
      "cell_type": "markdown",
      "metadata": {
        "id": "ePUVsYDsPuZW"
      },
      "source": [
        "## Gradient Descent for Linear Regression\n",
        "\n",
        "The gradient descent for the SLR cost function can be found using Classical calculus method. Since the cost function contains the parameters $\\theta_0$ and $\\theta_1$, the partial derivative curresponding to these parameters together defines the gradient. Mathematically\n",
        "\n",
        "\\begin{align*}\n",
        "\\dfrac{\\partial}{\\partial \\theta_0}\\left(J(\\theta_0,\\theta_1)\\right)&=\\dfrac{\\partial}{\\partial \\theta_0}\\left(\\frac{1}{2m}\\sum\\limits_{i=1}^m\\left(h_\\theta(x^i)-\\hat{y}^i\\right)^2\\right)\\\\\n",
        "\\dfrac{\\partial}{\\partial \\theta_1}\\left(J(\\theta_0,\\theta_1)\\right)&=\\dfrac{\\partial}{\\partial \\theta_1}\\left(\\frac{1}{2m}\\sum\\limits_{i=1}^m\\left(h_\\theta(x^i)-\\hat{y}^i\\right)^2\\right)\n",
        "\\end{align*}"
      ]
    },
    {
      "cell_type": "markdown",
      "metadata": {
        "id": "0xijmmosPuZW"
      },
      "source": [
        ">Why do we use partial derivative in the equation? Partial derivatives represents the rate of change of the functions as the variable change. In our case we change values for theta 0 and theta 1 and identifies the rate of change."
      ]
    },
    {
      "cell_type": "markdown",
      "metadata": {
        "id": "udHMk0zNPuZX"
      },
      "source": [
        "To apply rate of change values for theta 0 and theta 1, the below are the equations for theta 0 and theta 1 to apply it on each epoch.\n",
        "\n",
        "\\begin{align*}\n",
        "\\theta_0'&=\\frac{1}{m}\\sum\\limits_{i=1}^m\\left(h_\\theta(x^i)-\\hat{y}^i\\right)\\\\\n",
        "\\theta_1'&=\\frac{1}{m}\\sum\\limits_{i=1}^m\\left(h_\\theta(x^i)-\\hat{y}^i\\right)x^i\n",
        "\\end{align*}"
      ]
    },
    {
      "cell_type": "markdown",
      "metadata": {
        "id": "PrBAo2nOPuZY"
      },
      "source": [
        "To find the best minimum cost, repeat steps to apply various values for $\\theta_0$ and $\\theta_1$. In other words, repeat steps until convergence evaluate the following:\n",
        "\n",
        "\\begin{align*}\n",
        "\\theta_0^{(i+1)}&=\\theta_0^i-\\eta\\theta_0'^{(i)}\\\\\n",
        "\\theta_1^{(i+1)}&=\\theta_1^i-\\eta\\theta_1'^{(i)}\\\\\n",
        "\\end{align*}\n",
        "\n",
        "where $\\eta$ is the learning rate.\n"
      ]
    },
    {
      "cell_type": "markdown",
      "metadata": {
        "id": "9smjAjXYPuZY"
      },
      "source": [
        "## Multiple Linear regression\n",
        "In the case of multiple linear regression, we have an input vector $X$ and the ground truth is $\\hat{y}$. The cost function in the case of MLR is the $MSE$ in prediction. Formally it can be defined as:\n",
        "\n",
        "$$ J(\\theta)=\\frac{1}{2m}\\sum\\limits_{i=1}^m\\left(h_\\theta(X^i)-\\hat{y}^i\\right)^2$$. Now the minimum direction is found by calculating gradient. Here we will have more partial derivatives like:\n",
        "\\begin{align*}\n",
        "\\theta_0'&=\\frac{1}{m}\\sum\\limits_{i=1}^m\\left(h_\\theta(X^i)-\\hat{y}^i\\right)\\\\\n",
        "\\theta_1'&=\\frac{1}{m}\\sum\\limits_{i=1}^m\\left(h_\\theta(X^i)-\\hat{y}^i\\right)x_1^i\\\\\n",
        "\\theta_2'&=\\frac{1}{m}\\sum\\limits_{i=1}^m\\left(h_\\theta(X^i)-\\hat{y}^i\\right)x_2^i\\\\\n",
        "\\cdots&\\cdots\n",
        "\\end{align*}"
      ]
    },
    {
      "cell_type": "markdown",
      "metadata": {
        "id": "RLxK6vJ6PuZZ"
      },
      "source": [
        "Now the updates in $\\theta$ will be summarized as:\n",
        "    \\begin{align*}\n",
        "\\theta_0^{(i+1)}&=\\theta_0^i-\\eta\\theta_0'^{(i)}\\\\\n",
        "\\theta_1^{(i+1)}&=\\theta_1^i-\\eta\\theta_1'^{(i)}\\\\\n",
        "\\theta_2^{(i+1)}&=\\theta_2^i-\\eta\\theta_2'^{(i)}\\\\\n",
        "\\cdots&\\cdots\n",
        "\\end{align*}"
      ]
    },
    {
      "cell_type": "markdown",
      "metadata": {
        "id": "jr1vCfLUPuZZ"
      },
      "source": [
        "# Example: Gradient descent in Python from scratch\n",
        "## Case 1: Simple Linear regression"
      ]
    },
    {
      "cell_type": "code",
      "execution_count": null,
      "metadata": {
        "id": "z9lljS9RPuZa",
        "outputId": "c4b34932-c641-48e2-ea36-289786bad2f9",
        "colab": {
          "base_uri": "https://localhost:8080/"
        }
      },
      "outputs": [
        {
          "output_type": "stream",
          "name": "stdout",
          "text": [
            "[[4.51454832]\n",
            " [2.99817352]]\n"
          ]
        }
      ],
      "source": [
        "import pandas as pd\n",
        "import numpy as np\n",
        "import matplotlib.pyplot as plt# ensure to use matplot library for plotting\n",
        "np.random.seed(43)# ensure reproducible research\n",
        "X=2*np.random.rand(100,1)# a column of 100 random numbers\n",
        "y=4+3*X+np.random.rand(100,1)\n",
        "X_b=np.concatenate([np.ones((100,1)), X], axis=1)# reformulate X\n",
        "eta=0.1 # define learning rate\n",
        "n_iter=1000 # number of epochs\n",
        "m=100 # number of samples\n",
        "theta=np.random.rand(2,1) # create an initial setup for theta\n",
        "for ind in range(n_iter):\n",
        "    grad=1/m*X_b.T.dot(X_b.dot(theta)-y)\n",
        "    theta=theta-eta*grad\n",
        "print(theta)\n",
        "y_p=X_b.dot(theta)\n",
        "#print(y_p.T) # predicted values\n",
        "#print(y) # actual values"
      ]
    },
    {
      "cell_type": "markdown",
      "metadata": {
        "id": "7ac2SxZhPuZb"
      },
      "source": [
        "## Case 2: Multiple linear regression"
      ]
    },
    {
      "cell_type": "code",
      "execution_count": null,
      "metadata": {
        "id": "QmmAsXg6PuZb",
        "outputId": "b1d7132a-02b1-4030-9ee5-80b3ee907516"
      },
      "outputs": [
        {
          "name": "stdout",
          "output_type": "stream",
          "text": [
            "[[4.55222768]\n",
            " [2.00029634]\n",
            " [0.96414812]]\n"
          ]
        }
      ],
      "source": [
        "import pandas as pd\n",
        "import numpy as np\n",
        "import matplotlib.pyplot as plt# ensure to use matplot library for plotting\n",
        "np.random.seed(42)# ensure reproducible research\n",
        "X=2*np.random.rand(100,2)# two columns of 100 random numbers\n",
        "t=np.array([2,1])\n",
        "y=4+np.dot(X,t.T).reshape(100,1)+np.random.rand(100,1)\n",
        "X_b=np.concatenate([np.ones((100,1)), X], axis=1)# reformulate X\n",
        "eta=0.1 # define learning rate\n",
        "n_iter=1000 # number of epochs\n",
        "m=100 # number of samples\n",
        "theta=np.random.rand(3,1) # create an initial setup for theta\n",
        "for ind in range(n_iter):\n",
        "    grad=1/m*X_b.T.dot(X_b.dot(theta)-y)\n",
        "    theta=theta-eta*grad\n",
        "print(theta)\n",
        "y_p=X_b.dot(theta)\n",
        "#print(y_p.T) # predicted values\n",
        "#print(y) # actual values"
      ]
    },
    {
      "cell_type": "markdown",
      "metadata": {
        "id": "t59otiRwPuZc"
      },
      "source": [
        "# 2. Using Scikit-learn machine learning libray in Python"
      ]
    },
    {
      "cell_type": "markdown",
      "metadata": {
        "id": "taTgactXPuZc"
      },
      "source": [
        "We know that linear regression is a popular technique and we might as well seen the mathematical equation of linear regression.  There are several ways in which we can do that, we can do linear regression using numpy, scipy, stats model and sckit learn. But in this post I am going to use scikit learn to perform linear regression.\n",
        "\n",
        "Scikit-learn is a powerful Python module for machine learning. It contains function for regression, classification, clustering, model selection and dimensionality reduction. Today, I will explore the sklearn.linear_model module which contains “methods intended for regression in which the target value is expected to be a linear combination of the input variables”."
      ]
    },
    {
      "cell_type": "markdown",
      "metadata": {
        "id": "_dcOqfaAPuZd"
      },
      "source": [
        "**Important points**: Important functions to keep in mind while fitting a linear regression model are:\n",
        "\n",
        ">1. `lm.fit()` -> fits a linear model\n",
        "\n",
        ">2. `lm.predict()` -> Predict Y using the linear model with estimated coefficients\n",
        "\n",
        ">3. `lm.score()` -> Returns the coefficient of determination ($R^2$). A measure of how well observed outcomes are replicated by the model, as the proportion of total variation of outcomes explained by the model."
      ]
    },
    {
      "cell_type": "markdown",
      "metadata": {
        "id": "fU4AZArGPuZe"
      },
      "source": [
        "# A direct regression problem with sklearn library- Piza price model"
      ]
    },
    {
      "cell_type": "markdown",
      "metadata": {
        "id": "vXevk_DCPuZe"
      },
      "source": [
        "## 1. reading data"
      ]
    },
    {
      "cell_type": "code",
      "execution_count": null,
      "metadata": {
        "id": "HANAsk78PuZe"
      },
      "outputs": [],
      "source": [
        "import numpy as np\n",
        "X=[6,8,10,14,18]# reading as a list\n",
        "Y=[7,9,13,17.5,18]\n",
        "X=np.array(X).reshape(5,1) # converting list to a numpy array\n",
        "Y=np.array(Y).reshape(5,1)\n"
      ]
    },
    {
      "cell_type": "code",
      "source": [
        "Y"
      ],
      "metadata": {
        "colab": {
          "base_uri": "https://localhost:8080/"
        },
        "id": "BaNZjCV-kOLt",
        "outputId": "3a324a76-47d5-44da-e4fa-62eb53c83a12"
      },
      "execution_count": null,
      "outputs": [
        {
          "output_type": "execute_result",
          "data": {
            "text/plain": [
              "array([[ 7. ],\n",
              "       [ 9. ],\n",
              "       [13. ],\n",
              "       [17.5],\n",
              "       [18. ]])"
            ]
          },
          "metadata": {},
          "execution_count": 3
        }
      ]
    },
    {
      "cell_type": "markdown",
      "metadata": {
        "id": "-G850_TdPuZf"
      },
      "source": [
        "## 2.a Visualizing as a scatter plot using Matplotlib"
      ]
    },
    {
      "cell_type": "code",
      "execution_count": null,
      "metadata": {
        "id": "xDPkw3jFPuZf",
        "outputId": "baa7a95b-29b2-4393-b670-5516a97acc2b",
        "colab": {
          "base_uri": "https://localhost:8080/",
          "height": 501
        }
      },
      "outputs": [
        {
          "output_type": "stream",
          "name": "stderr",
          "text": [
            "<ipython-input-4-98d8183f438c>:2: MatplotlibDeprecationWarning: The seaborn styles shipped by Matplotlib are deprecated since 3.6, as they no longer correspond to the styles shipped by seaborn. However, they will remain available as 'seaborn-v0_8-<style>'. Alternatively, directly use the seaborn API instead.\n",
            "  plt.style.use('seaborn-whitegrid')\n"
          ]
        },
        {
          "output_type": "display_data",
          "data": {
            "text/plain": [
              "<Figure size 640x480 with 1 Axes>"
            ],
            "image/png": "[encoded data removed]"
          },
          "metadata": {}
        }
      ],
      "source": [
        "import matplotlib.pyplot as plt# ensure to use matplot library for plotting\n",
        "plt.style.use('seaborn-whitegrid')\n",
        "plt.xlabel(\" Size of piza\")\n",
        "plt.ylabel(\" Price of piza\")\n",
        "plt.scatter(X,Y)\n",
        "plt.plot(X,Y,'r')\n",
        "plt.show()"
      ]
    },
    {
      "cell_type": "markdown",
      "metadata": {
        "id": "ha9FPPfgPuZg"
      },
      "source": [
        "## 2.b Finding linear regression model parameters statistically\n",
        "\n",
        "$var(x)=\\frac{\\sum_{i=1}^n(x-\\bar{x})^2}{n-1}$\n",
        "\n",
        "$\\theta_1=\\frac{\n",
        "cov(x,y)}{var(x)}$;\n",
        "\n",
        "$\\theta_0=\\bar{y}-\\theta_1*\\bar{x}$\n",
        "\n",
        "$R^2=1-\\frac{SS_{res}}{SS_{tot}}$\n",
        "\n",
        "$SS_{res}=\\sum_{i=1}^n(y_i-f(x_i))^2$\n",
        "\n",
        "$SS_{tot}=\\sum_{i=1}^n(y_i-\\bar{y})^2$"
      ]
    },
    {
      "cell_type": "code",
      "execution_count": null,
      "metadata": {
        "id": "Uv8F3qPVPuZh",
        "outputId": "dcf76200-5d82-41e2-9a96-1d13debbde20",
        "colab": {
          "base_uri": "https://localhost:8080/"
        }
      },
      "outputs": [
        {
          "output_type": "stream",
          "name": "stdout",
          "text": [
            "23.2\n",
            "22.650000000000002\n",
            "Intercept: 1.9655172413793096\n",
            "Slope:  0.976293103448276\n"
          ]
        }
      ],
      "source": [
        "xL=[i[0] for i in X]\n",
        "yL=[i[0] for i in Y]\n",
        "var_x=np.var(xL,ddof=1)# d degrees of freedom\n",
        "cov_xy=np.cov(xL,yL,ddof=1)[0][1]\n",
        "print(var_x)\n",
        "print(cov_xy)\n",
        "xbar=np.mean(xL)\n",
        "ybar=np.mean(yL)\n",
        "theta_1=cov_xy/var_x\n",
        "theta_0=ybar-(theta_1*xbar)\n",
        "print(\"Intercept:\",theta_0)\n",
        "y_p=theta_0+theta_1*X\n",
        "print(\"Slope: \", theta_1)"
      ]
    },
    {
      "cell_type": "markdown",
      "source": [
        "> The regression equation is: $y=1.965+0.9762 x$"
      ],
      "metadata": {
        "id": "TBQu98edlyYZ"
      }
    },
    {
      "cell_type": "markdown",
      "metadata": {
        "id": "tE6h7v0SPuZi"
      },
      "source": [
        "## 3. Creating the model and finding parameters"
      ]
    },
    {
      "cell_type": "code",
      "execution_count": null,
      "metadata": {
        "id": "9JHjgl2qPuZi"
      },
      "outputs": [],
      "source": [
        "#loading the machine learning library\n",
        "from sklearn.linear_model import LinearRegression\n",
        "# creating an instance of the Linear Regression\n",
        "model=LinearRegression()"
      ]
    },
    {
      "cell_type": "code",
      "source": [
        "# train the model\n",
        "model.fit(X,Y)"
      ],
      "metadata": {
        "colab": {
          "base_uri": "https://localhost:8080/",
          "height": 74
        },
        "id": "HyOrKzzmnmAb",
        "outputId": "bf3e0c6d-b4d7-467a-e841-134041f15d2a"
      },
      "execution_count": null,
      "outputs": [
        {
          "output_type": "execute_result",
          "data": {
            "text/plain": [
              "LinearRegression()"
            ],
            "text/html": [
              "<style>#sk-container-id-3 {color: black;background-color: white;}#sk-container-id-3 pre{padding: 0;}#sk-container-id-3 div.sk-toggleable {background-color: white;}#sk-container-id-3 label.sk-toggleable__label {cursor: pointer;display: block;width: 100%;margin-bottom: 0;padding: 0.3em;box-sizing: border-box;text-align: center;}#sk-container-id-3 label.sk-toggleable__label-arrow:before {content: \"▸\";float: left;margin-right: 0.25em;color: #696969;}#sk-container-id-3 label.sk-toggleable__label-arrow:hover:before {color: black;}#sk-container-id-3 div.sk-estimator:hover label.sk-toggleable__label-arrow:before {color: black;}#sk-container-id-3 div.sk-toggleable__content {max-height: 0;max-width: 0;overflow: hidden;text-align: left;background-color: #f0f8ff;}#sk-container-id-3 div.sk-toggleable__content pre {margin: 0.2em;color: black;border-radius: 0.25em;background-color: #f0f8ff;}#sk-container-id-3 input.sk-toggleable__control:checked~div.sk-toggleable__content {max-height: 200px;max-width: 100%;overflow: auto;}#sk-container-id-3 input.sk-toggleable__control:checked~label.sk-toggleable__label-arrow:before {content: \"▾\";}#sk-container-id-3 div.sk-estimator input.sk-toggleable__control:checked~label.sk-toggleable__label {background-color: #d4ebff;}#sk-container-id-3 div.sk-label input.sk-toggleable__control:checked~label.sk-toggleable__label {background-color: #d4ebff;}#sk-container-id-3 input.sk-hidden--visually {border: 0;clip: rect(1px 1px 1px 1px);clip: rect(1px, 1px, 1px, 1px);height: 1px;margin: -1px;overflow: hidden;padding: 0;position: absolute;width: 1px;}#sk-container-id-3 div.sk-estimator {font-family: monospace;background-color: #f0f8ff;border: 1px dotted black;border-radius: 0.25em;box-sizing: border-box;margin-bottom: 0.5em;}#sk-container-id-3 div.sk-estimator:hover {background-color: #d4ebff;}#sk-container-id-3 div.sk-parallel-item::after {content: \"\";width: 100%;border-bottom: 1px solid gray;flex-grow: 1;}#sk-container-id-3 div.sk-label:hover label.sk-toggleable__label {background-color: #d4ebff;}#sk-container-id-3 div.sk-serial::before {content: \"\";position: absolute;border-left: 1px solid gray;box-sizing: border-box;top: 0;bottom: 0;left: 50%;z-index: 0;}#sk-container-id-3 div.sk-serial {display: flex;flex-direction: column;align-items: center;background-color: white;padding-right: 0.2em;padding-left: 0.2em;position: relative;}#sk-container-id-3 div.sk-item {position: relative;z-index: 1;}#sk-container-id-3 div.sk-parallel {display: flex;align-items: stretch;justify-content: center;background-color: white;position: relative;}#sk-container-id-3 div.sk-item::before, #sk-container-id-3 div.sk-parallel-item::before {content: \"\";position: absolute;border-left: 1px solid gray;box-sizing: border-box;top: 0;bottom: 0;left: 50%;z-index: -1;}#sk-container-id-3 div.sk-parallel-item {display: flex;flex-direction: column;z-index: 1;position: relative;background-color: white;}#sk-container-id-3 div.sk-parallel-item:first-child::after {align-self: flex-end;width: 50%;}#sk-container-id-3 div.sk-parallel-item:last-child::after {align-self: flex-start;width: 50%;}#sk-container-id-3 div.sk-parallel-item:only-child::after {width: 0;}#sk-container-id-3 div.sk-dashed-wrapped {border: 1px dashed gray;margin: 0 0.4em 0.5em 0.4em;box-sizing: border-box;padding-bottom: 0.4em;background-color: white;}#sk-container-id-3 div.sk-label label {font-family: monospace;font-weight: bold;display: inline-block;line-height: 1.2em;}#sk-container-id-3 div.sk-label-container {text-align: center;}#sk-container-id-3 div.sk-container {/* jupyter's `normalize.less` sets `[hidden] { display: none; }` but bootstrap.min.css set `[hidden] { display: none !important; }` so we also need the `!important` here to be able to override the default hidden behavior on the sphinx rendered scikit-learn.org. See: https://github.com/scikit-learn/scikit-learn/issues/21755 */display: inline-block !important;position: relative;}#sk-container-id-3 div.sk-text-repr-fallback {display: none;}</style><div id=\"sk-container-id-3\" class=\"sk-top-container\"><div class=\"sk-text-repr-fallback\"><pre>LinearRegression()</pre><b>In a Jupyter environment, please rerun this cell to show the HTML representation or trust the notebook. <br />On GitHub, the HTML representation is unable to render, please try loading this page with nbviewer.org.</b></div><div class=\"sk-container\" hidden><div class=\"sk-item\"><div class=\"sk-estimator sk-toggleable\"><input class=\"sk-toggleable__control sk-hidden--visually\" id=\"sk-estimator-id-3\" type=\"checkbox\" checked><label for=\"sk-estimator-id-3\" class=\"sk-toggleable__label sk-toggleable__label-arrow\">LinearRegression</label><div class=\"sk-toggleable__content\"><pre>LinearRegression()</pre></div></div></div></div></div>"
            ]
          },
          "metadata": {},
          "execution_count": 13
        }
      ]
    },
    {
      "cell_type": "code",
      "source": [
        "print('estimated Intercept:',model.intercept_)\n",
        "print('number of coefficients',len(model.coef_))\n",
        "print(' coefficients',model.coef_)"
      ],
      "metadata": {
        "colab": {
          "base_uri": "https://localhost:8080/"
        },
        "id": "qHDdKB6PoAu-",
        "outputId": "b76c7a4d-ad25-48e1-bffb-17783284544c"
      },
      "execution_count": null,
      "outputs": [
        {
          "output_type": "stream",
          "name": "stdout",
          "text": [
            "estimated Intercept: [1.96551724]\n",
            "number of coefficients 1\n",
            " coefficients [[0.9762931]]\n"
          ]
        }
      ]
    },
    {
      "cell_type": "markdown",
      "metadata": {
        "id": "8APJGZWRPuZi"
      },
      "source": [
        "## 4. Predict using scikit learn library"
      ]
    },
    {
      "cell_type": "code",
      "execution_count": null,
      "metadata": {
        "id": "HZ2xP3SYPuZj",
        "outputId": "75105830-44e1-4450-a16b-aef6d3082a37",
        "colab": {
          "base_uri": "https://localhost:8080/"
        }
      },
      "outputs": [
        {
          "output_type": "stream",
          "name": "stdout",
          "text": [
            "[[ 1.22413793]\n",
            " [-2.25215517]\n",
            " [ 2.29525862]\n",
            " [ 0.4137931 ]\n",
            " [-2.68103448]]\n"
          ]
        }
      ],
      "source": [
        "# new data for testing\n",
        "x_test=np.array([8,9,11,16,12]).reshape(5,1)\n",
        "y_test=np.array([11,8.5,15,18,11]).reshape(5,1)\n",
        "# predict the model ouput on the new data\n",
        "yp_test=model.predict(x_test)\n",
        "print(y_test-yp_test)\n",
        "#print(y_test)"
      ]
    },
    {
      "cell_type": "markdown",
      "metadata": {
        "id": "yFIWmbCRPuZk"
      },
      "source": [
        "## Finding skill of the model"
      ]
    },
    {
      "cell_type": "code",
      "execution_count": null,
      "metadata": {
        "id": "NzBsGdEiPuZk",
        "outputId": "c23eacb4-4e9f-4557-b585-a9808a9b7b03",
        "colab": {
          "base_uri": "https://localhost:8080/"
        }
      },
      "outputs": [
        {
          "output_type": "stream",
          "name": "stdout",
          "text": [
            "0.9100015964240102\n"
          ]
        }
      ],
      "source": [
        "# print the R^2 value (coefficient of determination) if R^2 value is greater than 0.75, we accept the model\n",
        "print(model.score(X,Y))"
      ]
    },
    {
      "cell_type": "code",
      "source": [
        "print(model.score(x_test,y_test))"
      ],
      "metadata": {
        "colab": {
          "base_uri": "https://localhost:8080/"
        },
        "id": "STJy82saqeol",
        "outputId": "61e45b80-1c59-48ff-b7fe-f2b186b5ab0e"
      },
      "execution_count": null,
      "outputs": [
        {
          "output_type": "stream",
          "name": "stdout",
          "text": [
            "0.6620052929422553\n"
          ]
        }
      ]
    },
    {
      "cell_type": "markdown",
      "metadata": {
        "id": "KkSM62B7PuZl"
      },
      "source": [
        "## 5. plotting the fitted line using test data"
      ]
    },
    {
      "cell_type": "code",
      "execution_count": null,
      "metadata": {
        "id": "UmhbhhEsPuZm",
        "outputId": "8572d8c7-59db-48b3-d344-d99542974317",
        "colab": {
          "base_uri": "https://localhost:8080/",
          "height": 445
        }
      },
      "outputs": [
        {
          "output_type": "display_data",
          "data": {
            "text/plain": [
              "<Figure size 640x480 with 1 Axes>"
            ],
            "image/png": "[encoded data removed]"
          },
          "metadata": {}
        }
      ],
      "source": [
        "plt.title(\"Piza price plotted against diameter\")\n",
        "x_fit=np.linspace(0,50)\n",
        "y_fit=theta_0+theta_1*x_fit\n",
        "plt.axis([0, 25, 0, 25])\n",
        "plt.plot(x_test,y_test,'k.')\n",
        "plt.plot(x_fit,y_fit,color=\"blue\")\n",
        "plt.show()"
      ]
    },
    {
      "cell_type": "markdown",
      "metadata": {
        "id": "4mSpO7dMPuZm"
      },
      "source": [
        "## 6. Visualizing error in prediction"
      ]
    },
    {
      "cell_type": "code",
      "execution_count": null,
      "metadata": {
        "id": "LAUST2UZPuZm",
        "outputId": "86807ffd-4438-47fa-88ca-e7291fade673",
        "colab": {
          "base_uri": "https://localhost:8080/",
          "height": 445
        }
      },
      "outputs": [
        {
          "output_type": "display_data",
          "data": {
            "text/plain": [
              "<Figure size 640x480 with 1 Axes>"
            ],
            "image/png": "[encoded data removed]"
          },
          "metadata": {}
        }
      ],
      "source": [
        "plt.title(\"Residual line plots\")\n",
        "plt.axis([0, 25, 0, 25])\n",
        "plt.plot(x_test,y_test,'k.')\n",
        "plt.plot(x_fit,y_fit,color=\"blue\")\n",
        "for i in range(0,len(x_test)):\n",
        "    plt.plot([x_test[i], x_test[i]], [yp_test[i], y_test[i]], color='red', linewidth=1)\n",
        "plt.show()"
      ]
    },
    {
      "cell_type": "markdown",
      "metadata": {
        "id": "tA4r0sogPuZn"
      },
      "source": [
        "## Polynomial regression using scikit learn\n",
        "\n",
        "A linear regression will always have first degree parameters. Example $y=\\theta_0+\\theta_1x$ (simple linear regression). Now there are polynomial regression also: $y_p=\\theta_0+\\theta_1 x^2$."
      ]
    },
    {
      "cell_type": "code",
      "execution_count": null,
      "metadata": {
        "id": "fTxn0dPTPuZn",
        "colab": {
          "base_uri": "https://localhost:8080/"
        },
        "outputId": "b3003e49-eb06-4226-b6be-b25b5978d9b0"
      },
      "outputs": [
        {
          "output_type": "stream",
          "name": "stdout",
          "text": [
            "[[  1.   6.  36.]\n",
            " [  1.   8.  64.]\n",
            " [  1.  10. 100.]\n",
            " [  1.  14. 196.]\n",
            " [  1.  18. 324.]]\n",
            "[[  1.   8.  64.]\n",
            " [  1.   9.  81.]\n",
            " [  1.  11. 121.]\n",
            " [  1.  16. 256.]\n",
            " [  1.  12. 144.]]\n"
          ]
        }
      ],
      "source": [
        "from sklearn.preprocessing import PolynomialFeatures\n",
        "polyftquadra=PolynomialFeatures(degree=2)\n",
        "Xq_train=polyftquadra.fit_transform(X) # X is the training data\n",
        "Xq_test=polyftquadra.fit_transform(x_test)#transforming input to quadratic way\n",
        "print(Xq_train)\n",
        "print(Xq_test)"
      ]
    },
    {
      "cell_type": "code",
      "execution_count": null,
      "metadata": {
        "id": "mm0O2gs9PuZo",
        "colab": {
          "base_uri": "https://localhost:8080/",
          "height": 443
        },
        "outputId": "113ee7bd-96b3-4c2f-dd6b-acb183715825"
      },
      "outputs": [
        {
          "output_type": "stream",
          "name": "stdout",
          "text": [
            "0.4853914100941126\n"
          ]
        },
        {
          "output_type": "display_data",
          "data": {
            "text/plain": [
              "<Figure size 640x480 with 1 Axes>"
            ],
            "image/png": "[encoded data removed]"
          },
          "metadata": {}
        }
      ],
      "source": [
        "# train the model\n",
        "\n",
        "modelQ=LinearRegression()\n",
        "modelQ.fit(Xq_train,Y)\n",
        "modelQ.predict(Xq_test)\n",
        "prval=[i[0] for i in modelQ.predict(Xq_test)]#copy values as a list\n",
        "R=modelQ.score(Xq_test,y_test)\n",
        "print(R)\n",
        "plt.plot(x_test,y_test,'k.')\n",
        "plt.plot(x_test,modelQ.predict(Xq_test))\n",
        "plt.show()"
      ]
    },
    {
      "cell_type": "code",
      "execution_count": null,
      "metadata": {
        "id": "vq8e8QIiPuZo",
        "colab": {
          "base_uri": "https://localhost:8080/",
          "height": 443
        },
        "outputId": "e152d856-121a-496f-a552-844feb3830cd"
      },
      "outputs": [
        {
          "output_type": "execute_result",
          "data": {
            "text/plain": [
              "0.4799610539386604"
            ]
          },
          "metadata": {},
          "execution_count": 25
        },
        {
          "output_type": "display_data",
          "data": {
            "text/plain": [
              "<Figure size 640x480 with 1 Axes>"
            ],
            "image/png": "[encoded data removed]"
          },
          "metadata": {}
        }
      ],
      "source": [
        "# Generate a cubic model\n",
        "from sklearn.preprocessing import PolynomialFeatures\n",
        "polyftcubic=PolynomialFeatures(degree=3)\n",
        "Xc_train=polyftcubic.fit_transform(X)\n",
        "Xc_test=polyftcubic.fit_transform(x_test)#transforming input to quadratic way\n",
        "modelC=LinearRegression()\n",
        "modelC.fit(Xc_train,Y)\n",
        "#prvc=[i[0] for i in modelC.predict(Xc_test)]\n",
        "plt.plot(x_test,modelC.predict(Xc_test))\n",
        "modelC.score(Xc_test,y_test) # here R^2 value is less than 0.75, the model is not acceptable."
      ]
    },
    {
      "cell_type": "markdown",
      "source": [
        "## Loading data from the `.csv` file"
      ],
      "metadata": {
        "id": "_dfUPXN5w79W"
      }
    },
    {
      "cell_type": "code",
      "execution_count": null,
      "metadata": {
        "id": "Gai8EjSnPuZo"
      },
      "outputs": [],
      "source": [
        "import pandas as pd"
      ]
    },
    {
      "cell_type": "code",
      "source": [
        "# open csv file with pandas\n",
        "df=pd.read_csv(\"/content/Linear_regression.csv\")"
      ],
      "metadata": {
        "id": "NhK7AcgqxIxr"
      },
      "execution_count": null,
      "outputs": []
    },
    {
      "cell_type": "code",
      "source": [
        "df.head()"
      ],
      "metadata": {
        "colab": {
          "base_uri": "https://localhost:8080/",
          "height": 206
        },
        "id": "XTl2aBvJxfUD",
        "outputId": "b46f0861-562d-4c6a-90e5-709aed2e2509"
      },
      "execution_count": null,
      "outputs": [
        {
          "output_type": "execute_result",
          "data": {
            "text/plain": [
              "   x      y\n",
              "0  1  2.407\n",
              "1  2  3.947\n",
              "2  3  5.487\n",
              "3  4  7.027\n",
              "4  5  8.567"
            ],
            "text/html": [
              "\n",
              "  <div id=\"df-3c2fa8dd-0d74-478e-8717-ee3825dd5ebd\">\n",
              "    <div class=\"colab-df-container\">\n",
              "      <div>\n",
              "<style scoped>\n",
              "    .dataframe tbody tr th:only-of-type {\n",
              "        vertical-align: middle;\n",
              "    }\n",
              "\n",
              "    .dataframe tbody tr th {\n",
              "        vertical-align: top;\n",
              "    }\n",
              "\n",
              "    .dataframe thead th {\n",
              "        text-align: right;\n",
              "    }\n",
              "</style>\n",
              "<table border=\"1\" class=\"dataframe\">\n",
              "  <thead>\n",
              "    <tr style=\"text-align: right;\">\n",
              "      <th></th>\n",
              "      <th>x</th>\n",
              "      <th>y</th>\n",
              "    </tr>\n",
              "  </thead>\n",
              "  <tbody>\n",
              "    <tr>\n",
              "      <th>0</th>\n",
              "      <td>1</td>\n",
              "      <td>2.407</td>\n",
              "    </tr>\n",
              "    <tr>\n",
              "      <th>1</th>\n",
              "      <td>2</td>\n",
              "      <td>3.947</td>\n",
              "    </tr>\n",
              "    <tr>\n",
              "      <th>2</th>\n",
              "      <td>3</td>\n",
              "      <td>5.487</td>\n",
              "    </tr>\n",
              "    <tr>\n",
              "      <th>3</th>\n",
              "      <td>4</td>\n",
              "      <td>7.027</td>\n",
              "    </tr>\n",
              "    <tr>\n",
              "      <th>4</th>\n",
              "      <td>5</td>\n",
              "      <td>8.567</td>\n",
              "    </tr>\n",
              "  </tbody>\n",
              "</table>\n",
              "</div>\n",
              "      <button class=\"colab-df-convert\" onclick=\"convertToInteractive('df-3c2fa8dd-0d74-478e-8717-ee3825dd5ebd')\"\n",
              "              title=\"Convert this dataframe to an interactive table.\"\n",
              "              style=\"display:none;\">\n",
              "        \n",
              "  <svg xmlns=\"http://www.w3.org/2000/svg\" height=\"24px\"viewBox=\"0 0 24 24\"\n",
              "       width=\"24px\">\n",
              "    <path d=\"M0 0h24v24H0V0z\" fill=\"none\"/>\n",
              "    <path d=\"M18.56 5.44l.94 2.06.94-2.06 2.06-.94-2.06-.94-.94-2.06-.94 2.06-2.06.94zm-11 1L8.5 8.5l.94-2.06 2.06-.94-2.06-.94L8.5 2.5l-.94 2.06-2.06.94zm10 10l.94 2.06.94-2.06 2.06-.94-2.06-.94-.94-2.06-.94 2.06-2.06.94z\"/><path d=\"M17.41 7.96l-1.37-1.37c-.4-.4-.92-.59-1.43-.59-.52 0-1.04.2-1.43.59L10.3 9.45l-7.72 7.72c-.78.78-.78 2.05 0 2.83L4 21.41c.39.39.9.59 1.41.59.51 0 1.02-.2 1.41-.59l7.78-7.78 2.81-2.81c.8-.78.8-2.07 0-2.86zM5.41 20L4 18.59l7.72-7.72 1.47 1.35L5.41 20z\"/>\n",
              "  </svg>\n",
              "      </button>\n",
              "      \n",
              "  <style>\n",
              "    .colab-df-container {\n",
              "      display:flex;\n",
              "      flex-wrap:wrap;\n",
              "      gap: 12px;\n",
              "    }\n",
              "\n",
              "    .colab-df-convert {\n",
              "      background-color: #E8F0FE;\n",
              "      border: none;\n",
              "      border-radius: 50%;\n",
              "      cursor: pointer;\n",
              "      display: none;\n",
              "      fill: #1967D2;\n",
              "      height: 32px;\n",
              "      padding: 0 0 0 0;\n",
              "      width: 32px;\n",
              "    }\n",
              "\n",
              "    .colab-df-convert:hover {\n",
              "      background-color: #E2EBFA;\n",
              "      box-shadow: 0px 1px 2px rgba(60, 64, 67, 0.3), 0px 1px 3px 1px rgba(60, 64, 67, 0.15);\n",
              "      fill: #174EA6;\n",
              "    }\n",
              "\n",
              "    [theme=dark] .colab-df-convert {\n",
              "      background-color: #3B4455;\n",
              "      fill: #D2E3FC;\n",
              "    }\n",
              "\n",
              "    [theme=dark] .colab-df-convert:hover {\n",
              "      background-color: #434B5C;\n",
              "      box-shadow: 0px 1px 3px 1px rgba(0, 0, 0, 0.15);\n",
              "      filter: drop-shadow(0px 1px 2px rgba(0, 0, 0, 0.3));\n",
              "      fill: #FFFFFF;\n",
              "    }\n",
              "  </style>\n",
              "\n",
              "      <script>\n",
              "        const buttonEl =\n",
              "          document.querySelector('#df-3c2fa8dd-0d74-478e-8717-ee3825dd5ebd button.colab-df-convert');\n",
              "        buttonEl.style.display =\n",
              "          google.colab.kernel.accessAllowed ? 'block' : 'none';\n",
              "\n",
              "        async function convertToInteractive(key) {\n",
              "          const element = document.querySelector('#df-3c2fa8dd-0d74-478e-8717-ee3825dd5ebd');\n",
              "          const dataTable =\n",
              "            await google.colab.kernel.invokeFunction('convertToInteractive',\n",
              "                                                     [key], {});\n",
              "          if (!dataTable) return;\n",
              "\n",
              "          const docLinkHtml = 'Like what you see? Visit the ' +\n",
              "            '<a target=\"_blank\" href=https://colab.research.google.com/notebooks/data_table.ipynb>data table notebook</a>'\n",
              "            + ' to learn more about interactive tables.';\n",
              "          element.innerHTML = '';\n",
              "          dataTable['output_type'] = 'display_data';\n",
              "          await google.colab.output.renderOutput(dataTable, element);\n",
              "          const docLink = document.createElement('div');\n",
              "          docLink.innerHTML = docLinkHtml;\n",
              "          element.appendChild(docLink);\n",
              "        }\n",
              "      </script>\n",
              "    </div>\n",
              "  </div>\n",
              "  "
            ]
          },
          "metadata": {},
          "execution_count": 28
        }
      ]
    },
    {
      "cell_type": "markdown",
      "source": [
        "## Connecting to a `github` repository data"
      ],
      "metadata": {
        "id": "HI6sNwOcyK5n"
      }
    },
    {
      "cell_type": "code",
      "source": [
        "df1=pd.read_csv(\"https://raw.githubusercontent.com/sijuswamy/PyWorks/main/Linear_regression.csv\")"
      ],
      "metadata": {
        "id": "Yp962ZlHyP-n"
      },
      "execution_count": null,
      "outputs": []
    },
    {
      "cell_type": "code",
      "source": [
        "df1.head()"
      ],
      "metadata": {
        "colab": {
          "base_uri": "https://localhost:8080/",
          "height": 206
        },
        "id": "HMq4slhhyXZj",
        "outputId": "df833123-0874-4761-fcde-2eccbbb882b5"
      },
      "execution_count": null,
      "outputs": [
        {
          "output_type": "execute_result",
          "data": {
            "text/plain": [
              "   x      y\n",
              "0  1  2.407\n",
              "1  2  3.947\n",
              "2  3  5.487\n",
              "3  4  7.027\n",
              "4  5  8.567"
            ],
            "text/html": [
              "\n",
              "  <div id=\"df-bd675aff-94bd-4f63-9d95-91d07ed715d5\">\n",
              "    <div class=\"colab-df-container\">\n",
              "      <div>\n",
              "<style scoped>\n",
              "    .dataframe tbody tr th:only-of-type {\n",
              "        vertical-align: middle;\n",
              "    }\n",
              "\n",
              "    .dataframe tbody tr th {\n",
              "        vertical-align: top;\n",
              "    }\n",
              "\n",
              "    .dataframe thead th {\n",
              "        text-align: right;\n",
              "    }\n",
              "</style>\n",
              "<table border=\"1\" class=\"dataframe\">\n",
              "  <thead>\n",
              "    <tr style=\"text-align: right;\">\n",
              "      <th></th>\n",
              "      <th>x</th>\n",
              "      <th>y</th>\n",
              "    </tr>\n",
              "  </thead>\n",
              "  <tbody>\n",
              "    <tr>\n",
              "      <th>0</th>\n",
              "      <td>1</td>\n",
              "      <td>2.407</td>\n",
              "    </tr>\n",
              "    <tr>\n",
              "      <th>1</th>\n",
              "      <td>2</td>\n",
              "      <td>3.947</td>\n",
              "    </tr>\n",
              "    <tr>\n",
              "      <th>2</th>\n",
              "      <td>3</td>\n",
              "      <td>5.487</td>\n",
              "    </tr>\n",
              "    <tr>\n",
              "      <th>3</th>\n",
              "      <td>4</td>\n",
              "      <td>7.027</td>\n",
              "    </tr>\n",
              "    <tr>\n",
              "      <th>4</th>\n",
              "      <td>5</td>\n",
              "      <td>8.567</td>\n",
              "    </tr>\n",
              "  </tbody>\n",
              "</table>\n",
              "</div>\n",
              "      <button class=\"colab-df-convert\" onclick=\"convertToInteractive('df-bd675aff-94bd-4f63-9d95-91d07ed715d5')\"\n",
              "              title=\"Convert this dataframe to an interactive table.\"\n",
              "              style=\"display:none;\">\n",
              "        \n",
              "  <svg xmlns=\"http://www.w3.org/2000/svg\" height=\"24px\"viewBox=\"0 0 24 24\"\n",
              "       width=\"24px\">\n",
              "    <path d=\"M0 0h24v24H0V0z\" fill=\"none\"/>\n",
              "    <path d=\"M18.56 5.44l.94 2.06.94-2.06 2.06-.94-2.06-.94-.94-2.06-.94 2.06-2.06.94zm-11 1L8.5 8.5l.94-2.06 2.06-.94-2.06-.94L8.5 2.5l-.94 2.06-2.06.94zm10 10l.94 2.06.94-2.06 2.06-.94-2.06-.94-.94-2.06-.94 2.06-2.06.94z\"/><path d=\"M17.41 7.96l-1.37-1.37c-.4-.4-.92-.59-1.43-.59-.52 0-1.04.2-1.43.59L10.3 9.45l-7.72 7.72c-.78.78-.78 2.05 0 2.83L4 21.41c.39.39.9.59 1.41.59.51 0 1.02-.2 1.41-.59l7.78-7.78 2.81-2.81c.8-.78.8-2.07 0-2.86zM5.41 20L4 18.59l7.72-7.72 1.47 1.35L5.41 20z\"/>\n",
              "  </svg>\n",
              "      </button>\n",
              "      \n",
              "  <style>\n",
              "    .colab-df-container {\n",
              "      display:flex;\n",
              "      flex-wrap:wrap;\n",
              "      gap: 12px;\n",
              "    }\n",
              "\n",
              "    .colab-df-convert {\n",
              "      background-color: #E8F0FE;\n",
              "      border: none;\n",
              "      border-radius: 50%;\n",
              "      cursor: pointer;\n",
              "      display: none;\n",
              "      fill: #1967D2;\n",
              "      height: 32px;\n",
              "      padding: 0 0 0 0;\n",
              "      width: 32px;\n",
              "    }\n",
              "\n",
              "    .colab-df-convert:hover {\n",
              "      background-color: #E2EBFA;\n",
              "      box-shadow: 0px 1px 2px rgba(60, 64, 67, 0.3), 0px 1px 3px 1px rgba(60, 64, 67, 0.15);\n",
              "      fill: #174EA6;\n",
              "    }\n",
              "\n",
              "    [theme=dark] .colab-df-convert {\n",
              "      background-color: #3B4455;\n",
              "      fill: #D2E3FC;\n",
              "    }\n",
              "\n",
              "    [theme=dark] .colab-df-convert:hover {\n",
              "      background-color: #434B5C;\n",
              "      box-shadow: 0px 1px 3px 1px rgba(0, 0, 0, 0.15);\n",
              "      filter: drop-shadow(0px 1px 2px rgba(0, 0, 0, 0.3));\n",
              "      fill: #FFFFFF;\n",
              "    }\n",
              "  </style>\n",
              "\n",
              "      <script>\n",
              "        const buttonEl =\n",
              "          document.querySelector('#df-bd675aff-94bd-4f63-9d95-91d07ed715d5 button.colab-df-convert');\n",
              "        buttonEl.style.display =\n",
              "          google.colab.kernel.accessAllowed ? 'block' : 'none';\n",
              "\n",
              "        async function convertToInteractive(key) {\n",
              "          const element = document.querySelector('#df-bd675aff-94bd-4f63-9d95-91d07ed715d5');\n",
              "          const dataTable =\n",
              "            await google.colab.kernel.invokeFunction('convertToInteractive',\n",
              "                                                     [key], {});\n",
              "          if (!dataTable) return;\n",
              "\n",
              "          const docLinkHtml = 'Like what you see? Visit the ' +\n",
              "            '<a target=\"_blank\" href=https://colab.research.google.com/notebooks/data_table.ipynb>data table notebook</a>'\n",
              "            + ' to learn more about interactive tables.';\n",
              "          element.innerHTML = '';\n",
              "          dataTable['output_type'] = 'display_data';\n",
              "          await google.colab.output.renderOutput(dataTable, element);\n",
              "          const docLink = document.createElement('div');\n",
              "          docLink.innerHTML = docLinkHtml;\n",
              "          element.appendChild(docLink);\n",
              "        }\n",
              "      </script>\n",
              "    </div>\n",
              "  </div>\n",
              "  "
            ]
          },
          "metadata": {},
          "execution_count": 35
        }
      ]
    },
    {
      "cell_type": "code",
      "source": [
        "X=df1.iloc[:,0].values# create input data\n",
        "Y=df1.iloc[:,1].values# create output data"
      ],
      "metadata": {
        "id": "_yaf8Pq7z3JX"
      },
      "execution_count": null,
      "outputs": []
    },
    {
      "cell_type": "code",
      "source": [
        "X=X.reshape(len(X),1) # reshaping the data\n",
        "Y=Y.reshape(len(Y),1)"
      ],
      "metadata": {
        "id": "3MqT81510HMs"
      },
      "execution_count": null,
      "outputs": []
    },
    {
      "cell_type": "code",
      "source": [],
      "metadata": {
        "id": "e9ZLYG7_1ITo"
      },
      "execution_count": null,
      "outputs": []
    },
    {
      "cell_type": "code",
      "source": [
        "# creating an instance of the Linear Regression\n",
        "model=LinearRegression()"
      ],
      "metadata": {
        "id": "ttMXD7RO0T4c"
      },
      "execution_count": null,
      "outputs": []
    },
    {
      "cell_type": "code",
      "source": [
        "model.fit(X,Y)"
      ],
      "metadata": {
        "colab": {
          "base_uri": "https://localhost:8080/",
          "height": 74
        },
        "id": "JF2pxmzT06FK",
        "outputId": "3e163f7b-86df-4a94-c5bc-6f6309eab8c0"
      },
      "execution_count": null,
      "outputs": [
        {
          "output_type": "execute_result",
          "data": {
            "text/plain": [
              "LinearRegression()"
            ],
            "text/html": [
              "<style>#sk-container-id-4 {color: black;background-color: white;}#sk-container-id-4 pre{padding: 0;}#sk-container-id-4 div.sk-toggleable {background-color: white;}#sk-container-id-4 label.sk-toggleable__label {cursor: pointer;display: block;width: 100%;margin-bottom: 0;padding: 0.3em;box-sizing: border-box;text-align: center;}#sk-container-id-4 label.sk-toggleable__label-arrow:before {content: \"▸\";float: left;margin-right: 0.25em;color: #696969;}#sk-container-id-4 label.sk-toggleable__label-arrow:hover:before {color: black;}#sk-container-id-4 div.sk-estimator:hover label.sk-toggleable__label-arrow:before {color: black;}#sk-container-id-4 div.sk-toggleable__content {max-height: 0;max-width: 0;overflow: hidden;text-align: left;background-color: #f0f8ff;}#sk-container-id-4 div.sk-toggleable__content pre {margin: 0.2em;color: black;border-radius: 0.25em;background-color: #f0f8ff;}#sk-container-id-4 input.sk-toggleable__control:checked~div.sk-toggleable__content {max-height: 200px;max-width: 100%;overflow: auto;}#sk-container-id-4 input.sk-toggleable__control:checked~label.sk-toggleable__label-arrow:before {content: \"▾\";}#sk-container-id-4 div.sk-estimator input.sk-toggleable__control:checked~label.sk-toggleable__label {background-color: #d4ebff;}#sk-container-id-4 div.sk-label input.sk-toggleable__control:checked~label.sk-toggleable__label {background-color: #d4ebff;}#sk-container-id-4 input.sk-hidden--visually {border: 0;clip: rect(1px 1px 1px 1px);clip: rect(1px, 1px, 1px, 1px);height: 1px;margin: -1px;overflow: hidden;padding: 0;position: absolute;width: 1px;}#sk-container-id-4 div.sk-estimator {font-family: monospace;background-color: #f0f8ff;border: 1px dotted black;border-radius: 0.25em;box-sizing: border-box;margin-bottom: 0.5em;}#sk-container-id-4 div.sk-estimator:hover {background-color: #d4ebff;}#sk-container-id-4 div.sk-parallel-item::after {content: \"\";width: 100%;border-bottom: 1px solid gray;flex-grow: 1;}#sk-container-id-4 div.sk-label:hover label.sk-toggleable__label {background-color: #d4ebff;}#sk-container-id-4 div.sk-serial::before {content: \"\";position: absolute;border-left: 1px solid gray;box-sizing: border-box;top: 0;bottom: 0;left: 50%;z-index: 0;}#sk-container-id-4 div.sk-serial {display: flex;flex-direction: column;align-items: center;background-color: white;padding-right: 0.2em;padding-left: 0.2em;position: relative;}#sk-container-id-4 div.sk-item {position: relative;z-index: 1;}#sk-container-id-4 div.sk-parallel {display: flex;align-items: stretch;justify-content: center;background-color: white;position: relative;}#sk-container-id-4 div.sk-item::before, #sk-container-id-4 div.sk-parallel-item::before {content: \"\";position: absolute;border-left: 1px solid gray;box-sizing: border-box;top: 0;bottom: 0;left: 50%;z-index: -1;}#sk-container-id-4 div.sk-parallel-item {display: flex;flex-direction: column;z-index: 1;position: relative;background-color: white;}#sk-container-id-4 div.sk-parallel-item:first-child::after {align-self: flex-end;width: 50%;}#sk-container-id-4 div.sk-parallel-item:last-child::after {align-self: flex-start;width: 50%;}#sk-container-id-4 div.sk-parallel-item:only-child::after {width: 0;}#sk-container-id-4 div.sk-dashed-wrapped {border: 1px dashed gray;margin: 0 0.4em 0.5em 0.4em;box-sizing: border-box;padding-bottom: 0.4em;background-color: white;}#sk-container-id-4 div.sk-label label {font-family: monospace;font-weight: bold;display: inline-block;line-height: 1.2em;}#sk-container-id-4 div.sk-label-container {text-align: center;}#sk-container-id-4 div.sk-container {/* jupyter's `normalize.less` sets `[hidden] { display: none; }` but bootstrap.min.css set `[hidden] { display: none !important; }` so we also need the `!important` here to be able to override the default hidden behavior on the sphinx rendered scikit-learn.org. See: https://github.com/scikit-learn/scikit-learn/issues/21755 */display: inline-block !important;position: relative;}#sk-container-id-4 div.sk-text-repr-fallback {display: none;}</style><div id=\"sk-container-id-4\" class=\"sk-top-container\"><div class=\"sk-text-repr-fallback\"><pre>LinearRegression()</pre><b>In a Jupyter environment, please rerun this cell to show the HTML representation or trust the notebook. <br />On GitHub, the HTML representation is unable to render, please try loading this page with nbviewer.org.</b></div><div class=\"sk-container\" hidden><div class=\"sk-item\"><div class=\"sk-estimator sk-toggleable\"><input class=\"sk-toggleable__control sk-hidden--visually\" id=\"sk-estimator-id-4\" type=\"checkbox\" checked><label for=\"sk-estimator-id-4\" class=\"sk-toggleable__label sk-toggleable__label-arrow\">LinearRegression</label><div class=\"sk-toggleable__content\"><pre>LinearRegression()</pre></div></div></div></div></div>"
            ]
          },
          "metadata": {},
          "execution_count": 52
        }
      ]
    },
    {
      "cell_type": "code",
      "source": [
        "model.intercept_"
      ],
      "metadata": {
        "colab": {
          "base_uri": "https://localhost:8080/"
        },
        "id": "UsJw-gxz1Plg",
        "outputId": "60013aa9-d4d1-40aa-d7ca-f3eee465bcca"
      },
      "execution_count": null,
      "outputs": [
        {
          "output_type": "execute_result",
          "data": {
            "text/plain": [
              "array([0.867])"
            ]
          },
          "metadata": {},
          "execution_count": 53
        }
      ]
    },
    {
      "cell_type": "code",
      "source": [
        "model.coef_"
      ],
      "metadata": {
        "colab": {
          "base_uri": "https://localhost:8080/"
        },
        "id": "10aDjgvt1Yaf",
        "outputId": "01172c61-4638-4d3b-8142-212be4b387e0"
      },
      "execution_count": null,
      "outputs": [
        {
          "output_type": "execute_result",
          "data": {
            "text/plain": [
              "array([[1.54]])"
            ]
          },
          "metadata": {},
          "execution_count": 54
        }
      ]
    }
  ],
  "metadata": {
    "kernelspec": {
      "display_name": "Python 3",
      "language": "python",
      "name": "python3"
    },
    "language_info": {
      "codemirror_mode": {
        "name": "ipython",
        "version": 3
      },
      "file_extension": ".py",
      "mimetype": "text/x-python",
      "name": "python",
      "nbconvert_exporter": "python",
      "pygments_lexer": "ipython3",
      "version": "3.6.4"
    },
    "colab": {
      "provenance": [],
      "include_colab_link": true
    }
  },
  "nbformat": 4,
  "nbformat_minor": 0
}